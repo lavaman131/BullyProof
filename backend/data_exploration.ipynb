{
 "cells": [
  {
   "cell_type": "code",
   "execution_count": 69,
   "id": "d4a3f407-ee40-4b9e-a1e2-2724b304229f",
   "metadata": {},
   "outputs": [
    {
     "name": "stderr",
     "output_type": "stream",
     "text": [
      "[nltk_data] Downloading package stopwords to\n",
      "[nltk_data]     /home/alilavaee/nltk_data...\n",
      "[nltk_data]   Package stopwords is already up-to-date!\n",
      "[nltk_data] Downloading package wordnet to\n",
      "[nltk_data]     /home/alilavaee/nltk_data...\n",
      "[nltk_data]   Package wordnet is already up-to-date!\n",
      "[nltk_data] Downloading package omw-1.4 to\n",
      "[nltk_data]     /home/alilavaee/nltk_data...\n",
      "[nltk_data]   Package omw-1.4 is already up-to-date!\n"
     ]
    }
   ],
   "source": [
    "import numpy as np\n",
    "import pandas as pd\n",
    "import matplotlib.pyplot as plt\n",
    "import seaborn as sns\n",
    "%matplotlib widget\n",
    "plt.style.use('seaborn-darkgrid')\n",
    "import re\n",
    "import nltk\n",
    "from nltk.stem import WordNetLemmatizer\n",
    "from nltk.corpus import stopwords\n",
    "nltk.download('stopwords')\n",
    "nltk.download('wordnet')\n",
    "nltk.download('omw-1.4')\n",
    "from sklearn.feature_extraction.text import CountVectorizer, TfidfVectorizer\n",
    "from sklearn.model_selection import train_test_split\n",
    "from sklearn.ensemble import RandomForestClassifier\n",
    "from sklearn.metrics import accuracy_score, precision_score, recall_score, f1_score, confusion_matrix\n",
    "import joblib"
   ]
  },
  {
   "cell_type": "code",
   "execution_count": 37,
   "id": "9703ca80-547b-4cf8-b3d1-e222e9afe20a",
   "metadata": {},
   "outputs": [],
   "source": [
    "# !wget https://github.com/priyanshkedia04/Tweets-Classification-among-Hate-Speech-Offensive-Neither/raw/master/data.csv"
   ]
  },
  {
   "cell_type": "code",
   "execution_count": 3,
   "id": "614bda24-af7f-4748-8f93-cf26c76fd1d8",
   "metadata": {},
   "outputs": [],
   "source": [
    "df = pd.read_csv('data.csv', index_col=0)"
   ]
  },
  {
   "cell_type": "code",
   "execution_count": 4,
   "id": "008ca01e-a344-4bcf-8193-8bf8df67dae5",
   "metadata": {},
   "outputs": [
    {
     "data": {
      "text/plain": [
       "Index(['count', 'hate_speech', 'offensive_language', 'neither', 'class',\n",
       "       'tweet'],\n",
       "      dtype='object')"
      ]
     },
     "execution_count": 4,
     "metadata": {},
     "output_type": "execute_result"
    }
   ],
   "source": [
    "df.columns"
   ]
  },
  {
   "cell_type": "code",
   "execution_count": 5,
   "id": "118b774b-ac0a-4f57-ad46-bcdb6777319d",
   "metadata": {},
   "outputs": [
    {
     "data": {
      "text/plain": [
       "array([2, 1, 0])"
      ]
     },
     "execution_count": 5,
     "metadata": {},
     "output_type": "execute_result"
    }
   ],
   "source": [
    "# 0 - hate speech 1 - offensive language 2 - neither\n",
    "df['class'].unique()"
   ]
  },
  {
   "cell_type": "code",
   "execution_count": 6,
   "id": "a644aad2-bd6b-4553-9e18-cf66c539c153",
   "metadata": {},
   "outputs": [
    {
     "data": {
      "text/html": [
       "<div>\n",
       "<style scoped>\n",
       "    .dataframe tbody tr th:only-of-type {\n",
       "        vertical-align: middle;\n",
       "    }\n",
       "\n",
       "    .dataframe tbody tr th {\n",
       "        vertical-align: top;\n",
       "    }\n",
       "\n",
       "    .dataframe thead th {\n",
       "        text-align: right;\n",
       "    }\n",
       "</style>\n",
       "<table border=\"1\" class=\"dataframe\">\n",
       "  <thead>\n",
       "    <tr style=\"text-align: right;\">\n",
       "      <th></th>\n",
       "      <th>label</th>\n",
       "      <th>tweet</th>\n",
       "    </tr>\n",
       "  </thead>\n",
       "  <tbody>\n",
       "    <tr>\n",
       "      <th>0</th>\n",
       "      <td>0</td>\n",
       "      <td>!!! RT @mayasolovely: As a woman you shouldn't...</td>\n",
       "    </tr>\n",
       "    <tr>\n",
       "      <th>1</th>\n",
       "      <td>1</td>\n",
       "      <td>!!!!! RT @mleew17: boy dats cold...tyga dwn ba...</td>\n",
       "    </tr>\n",
       "    <tr>\n",
       "      <th>2</th>\n",
       "      <td>1</td>\n",
       "      <td>!!!!!!! RT @UrKindOfBrand Dawg!!!! RT @80sbaby...</td>\n",
       "    </tr>\n",
       "    <tr>\n",
       "      <th>3</th>\n",
       "      <td>1</td>\n",
       "      <td>!!!!!!!!! RT @C_G_Anderson: @viva_based she lo...</td>\n",
       "    </tr>\n",
       "    <tr>\n",
       "      <th>4</th>\n",
       "      <td>1</td>\n",
       "      <td>!!!!!!!!!!!!! RT @ShenikaRoberts: The shit you...</td>\n",
       "    </tr>\n",
       "  </tbody>\n",
       "</table>\n",
       "</div>"
      ],
      "text/plain": [
       "   label                                              tweet\n",
       "0      0  !!! RT @mayasolovely: As a woman you shouldn't...\n",
       "1      1  !!!!! RT @mleew17: boy dats cold...tyga dwn ba...\n",
       "2      1  !!!!!!! RT @UrKindOfBrand Dawg!!!! RT @80sbaby...\n",
       "3      1  !!!!!!!!! RT @C_G_Anderson: @viva_based she lo...\n",
       "4      1  !!!!!!!!!!!!! RT @ShenikaRoberts: The shit you..."
      ]
     },
     "execution_count": 6,
     "metadata": {},
     "output_type": "execute_result"
    }
   ],
   "source": [
    "# only interested in label and tweet text\n",
    "df = df[['class', 'tweet']].rename({'class': 'label'}, axis=1)\n",
    "\n",
    "# change problem into binary classification by combining hate speech label and offensive language\n",
    "df['label'] = df.label.map({2: 0, 0: 1, 1: 1})\n",
    "\n",
    "# not negative speech - 0, negative speech - 1\n",
    "df.head()"
   ]
  },
  {
   "cell_type": "code",
   "execution_count": 7,
   "id": "070dd3ea-d3d8-4285-bb78-9de532ecc3dd",
   "metadata": {},
   "outputs": [],
   "source": [
    "# preprocess data\n",
    "stop_words = set(stopwords.words(\"english\"))\n",
    "stop_words.add('rt')\n",
    "stop_words.remove('not')\n",
    "lemmatizer = WordNetLemmatizer()\n",
    "giant_url_regex = ('http[s]?://(?:[a-zA-Z]|[0-9]|[$-_@.&+]|' '[!*\\(\\),]|(?:%[0-9a-fA-F][0-9a-fA-F]))+')\n",
    "mention_regex = '@[\\w\\-]+'\n",
    "\n",
    "def clean_text(text):\n",
    "    text = re.sub('\"', \"\", text)\n",
    "    text = re.sub(mention_regex, ' ',text) #removing all user names\n",
    "    text = re.sub(giant_url_regex, ' ', text)  #removing the urls\n",
    "    text = text.lower()\n",
    "    text = re.sub(\"hm+\", \"\", text) #removing variants of hmmm\n",
    "    text = re.sub(\"[^a-z]+\", \" \", text) #removing all numbers, special chars like @,#,? etc\n",
    "    text = text.split()\n",
    "    text = [word for word in text if not word in stop_words]\n",
    "    text = [lemmatizer.lemmatize(token) for token in text]\n",
    "    text = [lemmatizer.lemmatize(token, \"v\") for token in text]\n",
    "    text = \" \".join(text)\n",
    "    return text\n",
    "\n",
    "df['processed_tweets'] = df.tweet.apply(lambda x: clean_text(x)) "
   ]
  },
  {
   "cell_type": "code",
   "execution_count": 74,
   "id": "afb918d5-bd38-4be0-8a2e-6de387d108fb",
   "metadata": {},
   "outputs": [
    {
     "data": {
      "text/plain": [
       "Text(0, 0.5, 'Frequency')"
      ]
     },
     "execution_count": 74,
     "metadata": {},
     "output_type": "execute_result"
    },
    {
     "data": {
      "application/vnd.jupyter.widget-view+json": {
       "model_id": "b1e9f280b01646e193acc012edee3534",
       "version_major": 2,
       "version_minor": 0
      },
      "image/png": "[encoded data removed]",
      "text/html": [
       "\n",
       "            <div style=\"display: inline-block;\">\n",
       "                <div class=\"jupyter-widgets widget-label\" style=\"text-align: center;\">\n",
       "                    Figure\n",
       "                </div>\n",
       "                <img src='data:image/png;base64,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' width=640.0/>\n",
       "            </div>\n",
       "        "
      ],
      "text/plain": [
       "Canvas(toolbar=Toolbar(toolitems=[('Home', 'Reset original view', 'home', 'home'), ('Back', 'Back to previous …"
      ]
     },
     "metadata": {},
     "output_type": "display_data"
    }
   ],
   "source": [
    "fig = plt.figure()\n",
    "ax = fig.add_subplot(111)\n",
    "\n",
    "mapping = {0: 'Not Offensive', 1: 'Offensive'}\n",
    "values, counts = np.unique(df.label, return_counts=True)\n",
    "\n",
    "\n",
    "ax.bar([mapping[v] for v in values], counts, edgecolor='black')\n",
    "\n",
    "ax.set_xticks(np.arange(2))\n",
    "ax.set_title('Distribution of offensive and not offensive tweets')\n",
    "ax.set_ylabel('Frequency')"
   ]
  },
  {
   "cell_type": "code",
   "execution_count": 9,
   "id": "cf11f09e-268b-4cb5-9fe8-3831bb7f149f",
   "metadata": {},
   "outputs": [],
   "source": [
    "# prepare for training\n",
    "X = df['processed_tweets'].to_numpy()\n",
    "y = df['label'].to_numpy()\n",
    "X_train, X_test, y_train, y_test = train_test_split(X, y, random_state=42, test_size=0.2)\n",
    "\n",
    "corpus = X_train.copy()\n",
    "vectorizer = TfidfVectorizer()\n",
    "\n",
    "X_train = vectorizer.fit_transform(corpus).toarray()\n",
    "X_test = vectorizer.transform(X_test).toarray()"
   ]
  },
  {
   "cell_type": "code",
   "execution_count": 10,
   "id": "9411bdc1-d23d-41a6-875c-f6050d6d13f4",
   "metadata": {},
   "outputs": [],
   "source": [
    "def z_norm(X, mu, sigma):\n",
    "    return (X - mu) / sigma\n",
    "\n",
    "mu, sigma = X_train.mean(axis=0).reshape(1, -1), X_train.std(axis=0).reshape(1, -1)"
   ]
  },
  {
   "cell_type": "code",
   "execution_count": 11,
   "id": "9c8c6253-9e5c-468d-8fc9-d43b96717267",
   "metadata": {},
   "outputs": [],
   "source": [
    "X_train = z_norm(X_train, mu, sigma)\n",
    "X_test = z_norm(X_test, mu, sigma)"
   ]
  },
  {
   "cell_type": "code",
   "execution_count": 12,
   "id": "1fd79193-4942-4525-939e-e8ef455e2c1e",
   "metadata": {},
   "outputs": [],
   "source": [
    "clf = RandomForestClassifier(n_estimators=100, criterion='gini')"
   ]
  },
  {
   "cell_type": "code",
   "execution_count": 13,
   "id": "f263f144-0d4a-494b-97aa-cb16d1426768",
   "metadata": {},
   "outputs": [
    {
     "data": {
      "text/html": [
       "<style>#sk-container-id-1 {color: black;background-color: white;}#sk-container-id-1 pre{padding: 0;}#sk-container-id-1 div.sk-toggleable {background-color: white;}#sk-container-id-1 label.sk-toggleable__label {cursor: pointer;display: block;width: 100%;margin-bottom: 0;padding: 0.3em;box-sizing: border-box;text-align: center;}#sk-container-id-1 label.sk-toggleable__label-arrow:before {content: \"▸\";float: left;margin-right: 0.25em;color: #696969;}#sk-container-id-1 label.sk-toggleable__label-arrow:hover:before {color: black;}#sk-container-id-1 div.sk-estimator:hover label.sk-toggleable__label-arrow:before {color: black;}#sk-container-id-1 div.sk-toggleable__content {max-height: 0;max-width: 0;overflow: hidden;text-align: left;background-color: #f0f8ff;}#sk-container-id-1 div.sk-toggleable__content pre {margin: 0.2em;color: black;border-radius: 0.25em;background-color: #f0f8ff;}#sk-container-id-1 input.sk-toggleable__control:checked~div.sk-toggleable__content {max-height: 200px;max-width: 100%;overflow: auto;}#sk-container-id-1 input.sk-toggleable__control:checked~label.sk-toggleable__label-arrow:before {content: \"▾\";}#sk-container-id-1 div.sk-estimator input.sk-toggleable__control:checked~label.sk-toggleable__label {background-color: #d4ebff;}#sk-container-id-1 div.sk-label input.sk-toggleable__control:checked~label.sk-toggleable__label {background-color: #d4ebff;}#sk-container-id-1 input.sk-hidden--visually {border: 0;clip: rect(1px 1px 1px 1px);clip: rect(1px, 1px, 1px, 1px);height: 1px;margin: -1px;overflow: hidden;padding: 0;position: absolute;width: 1px;}#sk-container-id-1 div.sk-estimator {font-family: monospace;background-color: #f0f8ff;border: 1px dotted black;border-radius: 0.25em;box-sizing: border-box;margin-bottom: 0.5em;}#sk-container-id-1 div.sk-estimator:hover {background-color: #d4ebff;}#sk-container-id-1 div.sk-parallel-item::after {content: \"\";width: 100%;border-bottom: 1px solid gray;flex-grow: 1;}#sk-container-id-1 div.sk-label:hover label.sk-toggleable__label {background-color: #d4ebff;}#sk-container-id-1 div.sk-serial::before {content: \"\";position: absolute;border-left: 1px solid gray;box-sizing: border-box;top: 0;bottom: 0;left: 50%;z-index: 0;}#sk-container-id-1 div.sk-serial {display: flex;flex-direction: column;align-items: center;background-color: white;padding-right: 0.2em;padding-left: 0.2em;position: relative;}#sk-container-id-1 div.sk-item {position: relative;z-index: 1;}#sk-container-id-1 div.sk-parallel {display: flex;align-items: stretch;justify-content: center;background-color: white;position: relative;}#sk-container-id-1 div.sk-item::before, #sk-container-id-1 div.sk-parallel-item::before {content: \"\";position: absolute;border-left: 1px solid gray;box-sizing: border-box;top: 0;bottom: 0;left: 50%;z-index: -1;}#sk-container-id-1 div.sk-parallel-item {display: flex;flex-direction: column;z-index: 1;position: relative;background-color: white;}#sk-container-id-1 div.sk-parallel-item:first-child::after {align-self: flex-end;width: 50%;}#sk-container-id-1 div.sk-parallel-item:last-child::after {align-self: flex-start;width: 50%;}#sk-container-id-1 div.sk-parallel-item:only-child::after {width: 0;}#sk-container-id-1 div.sk-dashed-wrapped {border: 1px dashed gray;margin: 0 0.4em 0.5em 0.4em;box-sizing: border-box;padding-bottom: 0.4em;background-color: white;}#sk-container-id-1 div.sk-label label {font-family: monospace;font-weight: bold;display: inline-block;line-height: 1.2em;}#sk-container-id-1 div.sk-label-container {text-align: center;}#sk-container-id-1 div.sk-container {/* jupyter's `normalize.less` sets `[hidden] { display: none; }` but bootstrap.min.css set `[hidden] { display: none !important; }` so we also need the `!important` here to be able to override the default hidden behavior on the sphinx rendered scikit-learn.org. See: https://github.com/scikit-learn/scikit-learn/issues/21755 */display: inline-block !important;position: relative;}#sk-container-id-1 div.sk-text-repr-fallback {display: none;}</style><div id=\"sk-container-id-1\" class=\"sk-top-container\"><div class=\"sk-text-repr-fallback\"><pre>RandomForestClassifier()</pre><b>In a Jupyter environment, please rerun this cell to show the HTML representation or trust the notebook. <br />On GitHub, the HTML representation is unable to render, please try loading this page with nbviewer.org.</b></div><div class=\"sk-container\" hidden><div class=\"sk-item\"><div class=\"sk-estimator sk-toggleable\"><input class=\"sk-toggleable__control sk-hidden--visually\" id=\"sk-estimator-id-1\" type=\"checkbox\" checked><label for=\"sk-estimator-id-1\" class=\"sk-toggleable__label sk-toggleable__label-arrow\">RandomForestClassifier</label><div class=\"sk-toggleable__content\"><pre>RandomForestClassifier()</pre></div></div></div></div></div>"
      ],
      "text/plain": [
       "RandomForestClassifier()"
      ]
     },
     "execution_count": 13,
     "metadata": {},
     "output_type": "execute_result"
    }
   ],
   "source": [
    "clf.fit(X_train, y_train)"
   ]
  },
  {
   "cell_type": "code",
   "execution_count": 64,
   "id": "dec2cb60-4a2f-41f0-b91e-58168bfa1890",
   "metadata": {},
   "outputs": [],
   "source": [
    "y_preds_train = clf.predict(X_train)"
   ]
  },
  {
   "cell_type": "code",
   "execution_count": 65,
   "id": "d4d23c36-21d0-420d-bdc9-09776bcfa8dd",
   "metadata": {},
   "outputs": [
    {
     "name": "stdout",
     "output_type": "stream",
     "text": [
      "train accuracy: 0.9993442953697166\n",
      "train precision: 0.999757472867277\n",
      "train recall: 0.999454479330828\n",
      "train f1 score: 0.9996059531387348\n"
     ]
    }
   ],
   "source": [
    "print(f'train accuracy: {accuracy_score(y_train, y_preds_train)}')\n",
    "print(f'train precision: {precision_score(y_train, y_preds_train)}')\n",
    "print(f'train recall: {recall_score(y_train, y_preds_train)}')\n",
    "print(f'train f1 score: {f1_score(y_train, y_preds_train)}')"
   ]
  },
  {
   "cell_type": "code",
   "execution_count": 70,
   "id": "8f659699-9ada-48e3-add2-36a8ad1fddb8",
   "metadata": {},
   "outputs": [],
   "source": [
    "y_preds_test = clf.predict(X_test)"
   ]
  },
  {
   "cell_type": "code",
   "execution_count": 71,
   "id": "83a0203c-8f8d-43d7-973e-0b0d51142961",
   "metadata": {},
   "outputs": [
    {
     "name": "stdout",
     "output_type": "stream",
     "text": [
      "test accuracy: 0.9463385111962881\n",
      "test precision: 0.9630163304514889\n",
      "test recall: 0.972828723920427\n",
      "test f1 score: 0.9678976587014241\n"
     ]
    }
   ],
   "source": [
    "print(f'test accuracy: {accuracy_score(y_test, y_preds_test)}')\n",
    "print(f'test precision: {precision_score(y_test, y_preds_test)}')\n",
    "print(f'test recall: {recall_score(y_test, y_preds_test)}')\n",
    "print(f'test f1 score: {f1_score(y_test, y_preds_test)}')"
   ]
  },
  {
   "cell_type": "code",
   "execution_count": 72,
   "id": "9313ff28-6fcc-471b-b740-6c6e882e8427",
   "metadata": {},
   "outputs": [
    {
     "data": {
      "text/plain": [
       "<AxesSubplot:title={'center':'Confusion Matrix'}>"
      ]
     },
     "execution_count": 72,
     "metadata": {},
     "output_type": "execute_result"
    },
    {
     "data": {
      "application/vnd.jupyter.widget-view+json": {
       "model_id": "c000fd0ab15141ee87543d3aee09308a",
       "version_major": 2,
       "version_minor": 0
      },
      "image/png": "[encoded data removed]",
      "text/html": [
       "\n",
       "            <div style=\"display: inline-block;\">\n",
       "                <div class=\"jupyter-widgets widget-label\" style=\"text-align: center;\">\n",
       "                    Figure\n",
       "                </div>\n",
       "                <img src='data:image/png;base64,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' width=640.0/>\n",
       "            </div>\n",
       "        "
      ],
      "text/plain": [
       "Canvas(toolbar=Toolbar(toolitems=[('Home', 'Reset original view', 'home', 'home'), ('Back', 'Back to previous …"
      ]
     },
     "metadata": {},
     "output_type": "display_data"
    }
   ],
   "source": [
    "# evaluate model performance\n",
    "cf_mat = confusion_matrix(y_test, y_preds_test)\n",
    "fig3 = plt.figure()\n",
    "ax3 = fig3.add_subplot(111)\n",
    "ax3.set_title('Confusion Matrix')\n",
    "fig3.supylabel('True Class')\n",
    "fig3.supxlabel('Predicted Class')\n",
    "sns.heatmap(cf_mat, cmap='Blues', cbar=False, annot=True, fmt='g', ax=ax3)"
   ]
  },
  {
   "cell_type": "code",
   "execution_count": 73,
   "id": "c1eeabef-d136-44ed-b587-1ead0718e2b2",
   "metadata": {},
   "outputs": [
    {
     "data": {
      "text/plain": [
       "['random_forest_clf.pkl']"
      ]
     },
     "execution_count": 73,
     "metadata": {},
     "output_type": "execute_result"
    }
   ],
   "source": [
    "# save model\n",
    "joblib.dump(clf, 'random_forest_clf.pkl') "
   ]
  }
 ],
 "metadata": {
  "kernelspec": {
   "display_name": "tensorflow",
   "language": "python",
   "name": "tensorflow"
  },
  "language_info": {
   "codemirror_mode": {
    "name": "ipython",
    "version": 3
   },
   "file_extension": ".py",
   "mimetype": "text/x-python",
   "name": "python",
   "nbconvert_exporter": "python",
   "pygments_lexer": "ipython3",
   "version": "3.8.13"
  },
  "widgets": {
   "application/vnd.jupyter.widget-state+json": {
    "state": {
     "03fbc8fada8945458ce45798ed944ab5": {
      "model_module": "@jupyter-widgets/base",
      "model_module_version": "1.2.0",
      "model_name": "LayoutModel",
      "state": {}
     },
     "0b591714c0d64455ac879b8900394543": {
      "model_module": "@jupyter-widgets/base",
      "model_module_version": "1.2.0",
      "model_name": "LayoutModel",
      "state": {}
     },
     "0dece7a929664e2980dda608a8ea6ef1": {
      "model_module": "jupyter-matplotlib",
      "model_module_version": "^0.10.5",
      "model_name": "ToolbarModel",
      "state": {
       "collapsed": true,
       "layout": "IPY_MODEL_582c680152884f238c686914dd803954",
       "orientation": "vertical",
       "toolitems": [
        [
         "Home",
         "Reset original view",
         "home",
         "home"
        ],
        [
         "Back",
         "Back to previous view",
         "arrow-left",
         "back"
        ],
        [
         "Forward",
         "Forward to next view",
         "arrow-right",
         "forward"
        ],
        [
         "Pan",
         "Left button pans, Right button zooms\nx/y fixes axis, CTRL fixes aspect",
         "arrows",
         "pan"
        ],
        [
         "Zoom",
         "Zoom to rectangle\nx/y fixes axis",
         "square-o",
         "zoom"
        ],
        [
         "Download",
         "Download plot",
         "floppy-o",
         "save_figure"
        ]
       ]
      }
     },
     "0e51f308a7344aac8b6994bec06ea830": {
      "model_module": "jupyter-matplotlib",
      "model_module_version": "^0.10.5",
      "model_name": "ToolbarModel",
      "state": {
       "collapsed": true,
       "layout": "IPY_MODEL_4c9d3113aa3f45b0b148d27a265e614e",
       "orientation": "vertical",
       "toolitems": [
        [
         "Home",
         "Reset original view",
         "home",
         "home"
        ],
        [
         "Back",
         "Back to previous view",
         "arrow-left",
         "back"
        ],
        [
         "Forward",
         "Forward to next view",
         "arrow-right",
         "forward"
        ],
        [
         "Pan",
         "Left button pans, Right button zooms\nx/y fixes axis, CTRL fixes aspect",
         "arrows",
         "pan"
        ],
        [
         "Zoom",
         "Zoom to rectangle\nx/y fixes axis",
         "square-o",
         "zoom"
        ],
        [
         "Download",
         "Download plot",
         "floppy-o",
         "save_figure"
        ]
       ]
      }
     },
     "0ea6b88541904c1c8c0f890db8c8c6fd": {
      "model_module": "@jupyter-widgets/base",
      "model_module_version": "1.2.0",
      "model_name": "LayoutModel",
      "state": {}
     },
     "0fc3325d8fed4d91b7f092b121ff55db": {
      "model_module": "@jupyter-widgets/base",
      "model_module_version": "1.2.0",
      "model_name": "LayoutModel",
      "state": {}
     },
     "0fc3d87ddc964dc99b4413bb21b932b1": {
      "model_module": "@jupyter-widgets/base",
      "model_module_version": "1.2.0",
      "model_name": "LayoutModel",
      "state": {}
     },
     "1d67c60ee8854568bbe42b461b9c7bc3": {
      "model_module": "@jupyter-widgets/base",
      "model_module_version": "1.2.0",
      "model_name": "LayoutModel",
      "state": {}
     },
     "1fbf9df733f2414081ad0de33f7e0cc9": {
      "model_module": "@jupyter-widgets/base",
      "model_module_version": "1.2.0",
      "model_name": "LayoutModel",
      "state": {}
     },
     "21492f80a6f64f9989aa887a7f0c429f": {
      "model_module": "jupyter-matplotlib",
      "model_module_version": "^0.10.5",
      "model_name": "ToolbarModel",
      "state": {
       "collapsed": true,
       "layout": "IPY_MODEL_471451ad844d420888d5d18d386cbce6",
       "orientation": "vertical",
       "toolitems": [
        [
         "Home",
         "Reset original view",
         "home",
         "home"
        ],
        [
         "Back",
         "Back to previous view",
         "arrow-left",
         "back"
        ],
        [
         "Forward",
         "Forward to next view",
         "arrow-right",
         "forward"
        ],
        [
         "Pan",
         "Left button pans, Right button zooms\nx/y fixes axis, CTRL fixes aspect",
         "arrows",
         "pan"
        ],
        [
         "Zoom",
         "Zoom to rectangle\nx/y fixes axis",
         "square-o",
         "zoom"
        ],
        [
         "Download",
         "Download plot",
         "floppy-o",
         "save_figure"
        ]
       ]
      }
     },
     "234d2b3bb3e941c0bf58a32df6d779c2": {
      "model_module": "@jupyter-widgets/base",
      "model_module_version": "1.2.0",
      "model_name": "LayoutModel",
      "state": {}
     },
     "2e5cbc94a4ce4a648304237e311cbdf3": {
      "model_module": "@jupyter-widgets/base",
      "model_module_version": "1.2.0",
      "model_name": "LayoutModel",
      "state": {}
     },
     "33d89ebefd114a7794f8d685d3d51f7e": {
      "model_module": "@jupyter-widgets/base",
      "model_module_version": "1.2.0",
      "model_name": "LayoutModel",
      "state": {}
     },
     "37cf55b4d2864ab3b493adf1979b5c62": {
      "model_module": "@jupyter-widgets/base",
      "model_module_version": "1.2.0",
      "model_name": "LayoutModel",
      "state": {}
     },
     "471451ad844d420888d5d18d386cbce6": {
      "model_module": "@jupyter-widgets/base",
      "model_module_version": "1.2.0",
      "model_name": "LayoutModel",
      "state": {}
     },
     "49b943e0cc22443d9eede86b62ca0bff": {
      "model_module": "@jupyter-widgets/base",
      "model_module_version": "1.2.0",
      "model_name": "LayoutModel",
      "state": {}
     },
     "4adebc93ce994e07bc0d083d28a4de62": {
      "model_module": "@jupyter-widgets/base",
      "model_module_version": "1.2.0",
      "model_name": "LayoutModel",
      "state": {}
     },
     "4c9d3113aa3f45b0b148d27a265e614e": {
      "model_module": "@jupyter-widgets/base",
      "model_module_version": "1.2.0",
      "model_name": "LayoutModel",
      "state": {}
     },
     "4dd696a548c3458a8a8eecceff8f06ee": {
      "model_module": "@jupyter-widgets/base",
      "model_module_version": "1.2.0",
      "model_name": "LayoutModel",
      "state": {}
     },
     "53a4b89a1f56493880d452f30316b9cd": {
      "model_module": "@jupyter-widgets/base",
      "model_module_version": "1.2.0",
      "model_name": "LayoutModel",
      "state": {}
     },
     "53db0fe3bcd6491398945e5003a6327c": {
      "model_module": "@jupyter-widgets/base",
      "model_module_version": "1.2.0",
      "model_name": "LayoutModel",
      "state": {}
     },
     "549c683d66c843e09dcd3041f0403c63": {
      "model_module": "@jupyter-widgets/base",
      "model_module_version": "1.2.0",
      "model_name": "LayoutModel",
      "state": {}
     },
     "582c680152884f238c686914dd803954": {
      "model_module": "@jupyter-widgets/base",
      "model_module_version": "1.2.0",
      "model_name": "LayoutModel",
      "state": {}
     },
     "599bbda7f80a40a2a76ff7efb4fec58c": {
      "model_module": "jupyter-matplotlib",
      "model_module_version": "^0.10.5",
      "model_name": "ToolbarModel",
      "state": {
       "collapsed": true,
       "layout": "IPY_MODEL_fcfcec46bb06451da5764e37eb36569c",
       "orientation": "vertical",
       "toolitems": [
        [
         "Home",
         "Reset original view",
         "home",
         "home"
        ],
        [
         "Back",
         "Back to previous view",
         "arrow-left",
         "back"
        ],
        [
         "Forward",
         "Forward to next view",
         "arrow-right",
         "forward"
        ],
        [
         "Pan",
         "Left button pans, Right button zooms\nx/y fixes axis, CTRL fixes aspect",
         "arrows",
         "pan"
        ],
        [
         "Zoom",
         "Zoom to rectangle\nx/y fixes axis",
         "square-o",
         "zoom"
        ],
        [
         "Download",
         "Download plot",
         "floppy-o",
         "save_figure"
        ]
       ]
      }
     },
     "5d2abc26af74486abe9769a6fd3bc1ea": {
      "model_module": "@jupyter-widgets/base",
      "model_module_version": "1.2.0",
      "model_name": "LayoutModel",
      "state": {}
     },
     "61e181353e7c45cfb6da2841e5c1a6db": {
      "model_module": "jupyter-matplotlib",
      "model_module_version": "^0.10.5",
      "model_name": "ToolbarModel",
      "state": {
       "collapsed": true,
       "layout": "IPY_MODEL_a05cb35315dc406facaa8e921ff68b57",
       "orientation": "vertical",
       "toolitems": [
        [
         "Home",
         "Reset original view",
         "home",
         "home"
        ],
        [
         "Back",
         "Back to previous view",
         "arrow-left",
         "back"
        ],
        [
         "Forward",
         "Forward to next view",
         "arrow-right",
         "forward"
        ],
        [
         "Pan",
         "Left button pans, Right button zooms\nx/y fixes axis, CTRL fixes aspect",
         "arrows",
         "pan"
        ],
        [
         "Zoom",
         "Zoom to rectangle\nx/y fixes axis",
         "square-o",
         "zoom"
        ],
        [
         "Download",
         "Download plot",
         "floppy-o",
         "save_figure"
        ]
       ]
      }
     },
     "628d8e7da2b3437f959a6dd72bc7e304": {
      "model_module": "jupyter-matplotlib",
      "model_module_version": "^0.10.5",
      "model_name": "ToolbarModel",
      "state": {
       "collapsed": true,
       "layout": "IPY_MODEL_ec21c4edc66c496b866a99fe3014dba3",
       "orientation": "vertical",
       "toolitems": [
        [
         "Home",
         "Reset original view",
         "home",
         "home"
        ],
        [
         "Back",
         "Back to previous view",
         "arrow-left",
         "back"
        ],
        [
         "Forward",
         "Forward to next view",
         "arrow-right",
         "forward"
        ],
        [
         "Pan",
         "Left button pans, Right button zooms\nx/y fixes axis, CTRL fixes aspect",
         "arrows",
         "pan"
        ],
        [
         "Zoom",
         "Zoom to rectangle\nx/y fixes axis",
         "square-o",
         "zoom"
        ],
        [
         "Download",
         "Download plot",
         "floppy-o",
         "save_figure"
        ]
       ]
      }
     },
     "636e15f065784fffa15f1136c47ba7b6": {
      "model_module": "@jupyter-widgets/base",
      "model_module_version": "1.2.0",
      "model_name": "LayoutModel",
      "state": {}
     },
     "64f47747b68f4b6cb2dc4e1d39a70e07": {
      "model_module": "jupyter-matplotlib",
      "model_module_version": "^0.10.5",
      "model_name": "ToolbarModel",
      "state": {
       "collapsed": true,
       "layout": "IPY_MODEL_898b297f0fa14356b1f95976ebeac090",
       "orientation": "vertical",
       "toolitems": [
        [
         "Home",
         "Reset original view",
         "home",
         "home"
        ],
        [
         "Back",
         "Back to previous view",
         "arrow-left",
         "back"
        ],
        [
         "Forward",
         "Forward to next view",
         "arrow-right",
         "forward"
        ],
        [
         "Pan",
         "Left button pans, Right button zooms\nx/y fixes axis, CTRL fixes aspect",
         "arrows",
         "pan"
        ],
        [
         "Zoom",
         "Zoom to rectangle\nx/y fixes axis",
         "square-o",
         "zoom"
        ],
        [
         "Download",
         "Download plot",
         "floppy-o",
         "save_figure"
        ]
       ]
      }
     },
     "654ccbbce057460b82c4e7bc05d9a2fe": {
      "model_module": "jupyter-matplotlib",
      "model_module_version": "^0.10.5",
      "model_name": "ToolbarModel",
      "state": {
       "collapsed": true,
       "layout": "IPY_MODEL_549c683d66c843e09dcd3041f0403c63",
       "orientation": "vertical",
       "toolitems": [
        [
         "Home",
         "Reset original view",
         "home",
         "home"
        ],
        [
         "Back",
         "Back to previous view",
         "arrow-left",
         "back"
        ],
        [
         "Forward",
         "Forward to next view",
         "arrow-right",
         "forward"
        ],
        [
         "Pan",
         "Left button pans, Right button zooms\nx/y fixes axis, CTRL fixes aspect",
         "arrows",
         "pan"
        ],
        [
         "Zoom",
         "Zoom to rectangle\nx/y fixes axis",
         "square-o",
         "zoom"
        ],
        [
         "Download",
         "Download plot",
         "floppy-o",
         "save_figure"
        ]
       ]
      }
     },
     "65847423413f49cb90391726878c101c": {
      "model_module": "@jupyter-widgets/base",
      "model_module_version": "1.2.0",
      "model_name": "LayoutModel",
      "state": {}
     },
     "670469d7558a4367a00a1e5ae6f53207": {
      "model_module": "jupyter-matplotlib",
      "model_module_version": "^0.10.5",
      "model_name": "ToolbarModel",
      "state": {
       "collapsed": true,
       "layout": "IPY_MODEL_c63a63cc25ea47dfb7478bf9e3d4b84b",
       "orientation": "vertical",
       "toolitems": [
        [
         "Home",
         "Reset original view",
         "home",
         "home"
        ],
        [
         "Back",
         "Back to previous view",
         "arrow-left",
         "back"
        ],
        [
         "Forward",
         "Forward to next view",
         "arrow-right",
         "forward"
        ],
        [
         "Pan",
         "Left button pans, Right button zooms\nx/y fixes axis, CTRL fixes aspect",
         "arrows",
         "pan"
        ],
        [
         "Zoom",
         "Zoom to rectangle\nx/y fixes axis",
         "square-o",
         "zoom"
        ],
        [
         "Download",
         "Download plot",
         "floppy-o",
         "save_figure"
        ]
       ]
      }
     },
     "670d191ea86d433bb16c8882bb582f50": {
      "model_module": "jupyter-matplotlib",
      "model_module_version": "^0.10.5",
      "model_name": "ToolbarModel",
      "state": {
       "collapsed": true,
       "layout": "IPY_MODEL_cc4ccb5f271445e6929e1e81a99fc012",
       "orientation": "vertical",
       "toolitems": [
        [
         "Home",
         "Reset original view",
         "home",
         "home"
        ],
        [
         "Back",
         "Back to previous view",
         "arrow-left",
         "back"
        ],
        [
         "Forward",
         "Forward to next view",
         "arrow-right",
         "forward"
        ],
        [
         "Pan",
         "Left button pans, Right button zooms\nx/y fixes axis, CTRL fixes aspect",
         "arrows",
         "pan"
        ],
        [
         "Zoom",
         "Zoom to rectangle\nx/y fixes axis",
         "square-o",
         "zoom"
        ],
        [
         "Download",
         "Download plot",
         "floppy-o",
         "save_figure"
        ]
       ]
      }
     },
     "67ae93b9a9244c5eba7efe9be0d2a298": {
      "model_module": "jupyter-matplotlib",
      "model_module_version": "^0.10.5",
      "model_name": "ToolbarModel",
      "state": {
       "collapsed": true,
       "layout": "IPY_MODEL_0b591714c0d64455ac879b8900394543",
       "orientation": "vertical",
       "toolitems": [
        [
         "Home",
         "Reset original view",
         "home",
         "home"
        ],
        [
         "Back",
         "Back to previous view",
         "arrow-left",
         "back"
        ],
        [
         "Forward",
         "Forward to next view",
         "arrow-right",
         "forward"
        ],
        [
         "Pan",
         "Left button pans, Right button zooms\nx/y fixes axis, CTRL fixes aspect",
         "arrows",
         "pan"
        ],
        [
         "Zoom",
         "Zoom to rectangle\nx/y fixes axis",
         "square-o",
         "zoom"
        ],
        [
         "Download",
         "Download plot",
         "floppy-o",
         "save_figure"
        ]
       ]
      }
     },
     "696f615306c340f9837d01f56aa2c9c8": {
      "model_module": "@jupyter-widgets/base",
      "model_module_version": "1.2.0",
      "model_name": "LayoutModel",
      "state": {}
     },
     "69b8935786194c9daa13a9b1c4a8cbc2": {
      "model_module": "@jupyter-widgets/base",
      "model_module_version": "1.2.0",
      "model_name": "LayoutModel",
      "state": {}
     },
     "6d3fa93551ec4f0492ecd0b74cde417e": {
      "model_module": "jupyter-matplotlib",
      "model_module_version": "^0.10.5",
      "model_name": "ToolbarModel",
      "state": {
       "collapsed": true,
       "layout": "IPY_MODEL_f18cba08186948f98c324c915e14b6f5",
       "orientation": "vertical",
       "toolitems": [
        [
         "Home",
         "Reset original view",
         "home",
         "home"
        ],
        [
         "Back",
         "Back to previous view",
         "arrow-left",
         "back"
        ],
        [
         "Forward",
         "Forward to next view",
         "arrow-right",
         "forward"
        ],
        [
         "Pan",
         "Left button pans, Right button zooms\nx/y fixes axis, CTRL fixes aspect",
         "arrows",
         "pan"
        ],
        [
         "Zoom",
         "Zoom to rectangle\nx/y fixes axis",
         "square-o",
         "zoom"
        ],
        [
         "Download",
         "Download plot",
         "floppy-o",
         "save_figure"
        ]
       ]
      }
     },
     "6fe8c65124f545ec8d319001b78562a6": {
      "model_module": "jupyter-matplotlib",
      "model_module_version": "^0.10.5",
      "model_name": "ToolbarModel",
      "state": {
       "collapsed": true,
       "layout": "IPY_MODEL_0fc3325d8fed4d91b7f092b121ff55db",
       "orientation": "vertical",
       "toolitems": [
        [
         "Home",
         "Reset original view",
         "home",
         "home"
        ],
        [
         "Back",
         "Back to previous view",
         "arrow-left",
         "back"
        ],
        [
         "Forward",
         "Forward to next view",
         "arrow-right",
         "forward"
        ],
        [
         "Pan",
         "Left button pans, Right button zooms\nx/y fixes axis, CTRL fixes aspect",
         "arrows",
         "pan"
        ],
        [
         "Zoom",
         "Zoom to rectangle\nx/y fixes axis",
         "square-o",
         "zoom"
        ],
        [
         "Download",
         "Download plot",
         "floppy-o",
         "save_figure"
        ]
       ]
      }
     },
     "70b26e6ec54e4e33b857a7de80e72af1": {
      "model_module": "@jupyter-widgets/base",
      "model_module_version": "1.2.0",
      "model_name": "LayoutModel",
      "state": {}
     },
     "71b7520ee2a9441c83fdbd262dc097a5": {
      "model_module": "@jupyter-widgets/base",
      "model_module_version": "1.2.0",
      "model_name": "LayoutModel",
      "state": {}
     },
     "767355c969e5491aaa1636b4dd830a9b": {
      "model_module": "@jupyter-widgets/base",
      "model_module_version": "1.2.0",
      "model_name": "LayoutModel",
      "state": {}
     },
     "79e4a68b90ed49398005d5a97c7c9377": {
      "model_module": "jupyter-matplotlib",
      "model_module_version": "^0.10.5",
      "model_name": "ToolbarModel",
      "state": {
       "collapsed": true,
       "layout": "IPY_MODEL_696f615306c340f9837d01f56aa2c9c8",
       "orientation": "vertical",
       "toolitems": [
        [
         "Home",
         "Reset original view",
         "home",
         "home"
        ],
        [
         "Back",
         "Back to previous view",
         "arrow-left",
         "back"
        ],
        [
         "Forward",
         "Forward to next view",
         "arrow-right",
         "forward"
        ],
        [
         "Pan",
         "Left button pans, Right button zooms\nx/y fixes axis, CTRL fixes aspect",
         "arrows",
         "pan"
        ],
        [
         "Zoom",
         "Zoom to rectangle\nx/y fixes axis",
         "square-o",
         "zoom"
        ],
        [
         "Download",
         "Download plot",
         "floppy-o",
         "save_figure"
        ]
       ]
      }
     },
     "7c74c844d9d64723a16f1bb96a1db64a": {
      "model_module": "@jupyter-widgets/base",
      "model_module_version": "1.2.0",
      "model_name": "LayoutModel",
      "state": {}
     },
     "7c978620b21c43519df30ac643fa7790": {
      "model_module": "@jupyter-widgets/base",
      "model_module_version": "1.2.0",
      "model_name": "LayoutModel",
      "state": {}
     },
     "898b297f0fa14356b1f95976ebeac090": {
      "model_module": "@jupyter-widgets/base",
      "model_module_version": "1.2.0",
      "model_name": "LayoutModel",
      "state": {}
     },
     "8a033d0b44af4e948d9b7f6e25eec7e5": {
      "model_module": "@jupyter-widgets/base",
      "model_module_version": "1.2.0",
      "model_name": "LayoutModel",
      "state": {}
     },
     "8e2b6f0480ed4aba86da938eee4d5ec9": {
      "model_module": "@jupyter-widgets/base",
      "model_module_version": "1.2.0",
      "model_name": "LayoutModel",
      "state": {}
     },
     "95d3be3fc1f747b48de5ea998ddb3f12": {
      "model_module": "@jupyter-widgets/base",
      "model_module_version": "1.2.0",
      "model_name": "LayoutModel",
      "state": {}
     },
     "a05cb35315dc406facaa8e921ff68b57": {
      "model_module": "@jupyter-widgets/base",
      "model_module_version": "1.2.0",
      "model_name": "LayoutModel",
      "state": {}
     },
     "a2ba5bf4b38c4ea19a37af9b095b69b4": {
      "model_module": "@jupyter-widgets/base",
      "model_module_version": "1.2.0",
      "model_name": "LayoutModel",
      "state": {}
     },
     "b0ceb3fdd27848e5b7a19e98da02d8d0": {
      "model_module": "jupyter-matplotlib",
      "model_module_version": "^0.10.5",
      "model_name": "ToolbarModel",
      "state": {
       "collapsed": true,
       "layout": "IPY_MODEL_f7b18caee3fc4a2d97222752df425fb4",
       "orientation": "vertical",
       "toolitems": [
        [
         "Home",
         "Reset original view",
         "home",
         "home"
        ],
        [
         "Back",
         "Back to previous view",
         "arrow-left",
         "back"
        ],
        [
         "Forward",
         "Forward to next view",
         "arrow-right",
         "forward"
        ],
        [
         "Pan",
         "Left button pans, Right button zooms\nx/y fixes axis, CTRL fixes aspect",
         "arrows",
         "pan"
        ],
        [
         "Zoom",
         "Zoom to rectangle\nx/y fixes axis",
         "square-o",
         "zoom"
        ],
        [
         "Download",
         "Download plot",
         "floppy-o",
         "save_figure"
        ]
       ]
      }
     },
     "b175917e60594bcf8f35d3d1ee2fe8a0": {
      "model_module": "@jupyter-widgets/base",
      "model_module_version": "1.2.0",
      "model_name": "LayoutModel",
      "state": {}
     },
     "b1e9f280b01646e193acc012edee3534": {
      "model_module": "jupyter-matplotlib",
      "model_module_version": "^0.10.5",
      "model_name": "MPLCanvasModel",
      "state": {
       "_data_url": "data:image/png;base64,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",
       "_figure_label": "Figure 2",
       "_message": "x=Not Offensive y=9.56e+03",
       "_size": [
        640,
        480
       ],
       "layout": "IPY_MODEL_f038b7f095f64f4c9904db88fee004d1",
       "toolbar": "IPY_MODEL_bfa4eb653a7b47659a7f91e30519a2fb",
       "toolbar_position": "left"
      }
     },
     "b994eb8267114a1893b204267be56a33": {
      "model_module": "jupyter-matplotlib",
      "model_module_version": "^0.10.5",
      "model_name": "ToolbarModel",
      "state": {
       "collapsed": true,
       "layout": "IPY_MODEL_33d89ebefd114a7794f8d685d3d51f7e",
       "orientation": "vertical",
       "toolitems": [
        [
         "Home",
         "Reset original view",
         "home",
         "home"
        ],
        [
         "Back",
         "Back to previous view",
         "arrow-left",
         "back"
        ],
        [
         "Forward",
         "Forward to next view",
         "arrow-right",
         "forward"
        ],
        [
         "Pan",
         "Left button pans, Right button zooms\nx/y fixes axis, CTRL fixes aspect",
         "arrows",
         "pan"
        ],
        [
         "Zoom",
         "Zoom to rectangle\nx/y fixes axis",
         "square-o",
         "zoom"
        ],
        [
         "Download",
         "Download plot",
         "floppy-o",
         "save_figure"
        ]
       ]
      }
     },
     "badc9ef6047648848164fa89408568b0": {
      "model_module": "jupyter-matplotlib",
      "model_module_version": "^0.10.5",
      "model_name": "ToolbarModel",
      "state": {
       "collapsed": true,
       "layout": "IPY_MODEL_5d2abc26af74486abe9769a6fd3bc1ea",
       "orientation": "vertical",
       "toolitems": [
        [
         "Home",
         "Reset original view",
         "home",
         "home"
        ],
        [
         "Back",
         "Back to previous view",
         "arrow-left",
         "back"
        ],
        [
         "Forward",
         "Forward to next view",
         "arrow-right",
         "forward"
        ],
        [
         "Pan",
         "Left button pans, Right button zooms\nx/y fixes axis, CTRL fixes aspect",
         "arrows",
         "pan"
        ],
        [
         "Zoom",
         "Zoom to rectangle\nx/y fixes axis",
         "square-o",
         "zoom"
        ],
        [
         "Download",
         "Download plot",
         "floppy-o",
         "save_figure"
        ]
       ]
      }
     },
     "bbdb7b05da74485b9b1a8aa70908150e": {
      "model_module": "jupyter-matplotlib",
      "model_module_version": "^0.10.5",
      "model_name": "ToolbarModel",
      "state": {
       "collapsed": true,
       "layout": "IPY_MODEL_e55541da62834fb0a423e58a1900f7b7",
       "orientation": "vertical",
       "toolitems": [
        [
         "Home",
         "Reset original view",
         "home",
         "home"
        ],
        [
         "Back",
         "Back to previous view",
         "arrow-left",
         "back"
        ],
        [
         "Forward",
         "Forward to next view",
         "arrow-right",
         "forward"
        ],
        [
         "Pan",
         "Left button pans, Right button zooms\nx/y fixes axis, CTRL fixes aspect",
         "arrows",
         "pan"
        ],
        [
         "Zoom",
         "Zoom to rectangle\nx/y fixes axis",
         "square-o",
         "zoom"
        ],
        [
         "Download",
         "Download plot",
         "floppy-o",
         "save_figure"
        ]
       ]
      }
     },
     "bd551d425ba74a0f96110624af4feff1": {
      "model_module": "@jupyter-widgets/base",
      "model_module_version": "1.2.0",
      "model_name": "LayoutModel",
      "state": {}
     },
     "bfa4eb653a7b47659a7f91e30519a2fb": {
      "model_module": "jupyter-matplotlib",
      "model_module_version": "^0.10.5",
      "model_name": "ToolbarModel",
      "state": {
       "collapsed": true,
       "layout": "IPY_MODEL_a2ba5bf4b38c4ea19a37af9b095b69b4",
       "orientation": "vertical",
       "toolitems": [
        [
         "Home",
         "Reset original view",
         "home",
         "home"
        ],
        [
         "Back",
         "Back to previous view",
         "arrow-left",
         "back"
        ],
        [
         "Forward",
         "Forward to next view",
         "arrow-right",
         "forward"
        ],
        [
         "Pan",
         "Left button pans, Right button zooms\nx/y fixes axis, CTRL fixes aspect",
         "arrows",
         "pan"
        ],
        [
         "Zoom",
         "Zoom to rectangle\nx/y fixes axis",
         "square-o",
         "zoom"
        ],
        [
         "Download",
         "Download plot",
         "floppy-o",
         "save_figure"
        ]
       ]
      }
     },
     "c000fd0ab15141ee87543d3aee09308a": {
      "model_module": "jupyter-matplotlib",
      "model_module_version": "^0.10.5",
      "model_name": "MPLCanvasModel",
      "state": {
       "_cursor": "default",
       "_data_url": "data:image/png;base64,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",
       "_figure_label": "Figure 1",
       "_image_mode": "diff",
       "_message": "x= y=",
       "_size": [
        640,
        480
       ],
       "layout": "IPY_MODEL_65847423413f49cb90391726878c101c",
       "toolbar": "IPY_MODEL_599bbda7f80a40a2a76ff7efb4fec58c",
       "toolbar_position": "left"
      }
     },
     "c63a63cc25ea47dfb7478bf9e3d4b84b": {
      "model_module": "@jupyter-widgets/base",
      "model_module_version": "1.2.0",
      "model_name": "LayoutModel",
      "state": {}
     },
     "c6a4b090ec3249f6bbec99d393ed01df": {
      "model_module": "jupyter-matplotlib",
      "model_module_version": "^0.10.5",
      "model_name": "ToolbarModel",
      "state": {
       "collapsed": true,
       "layout": "IPY_MODEL_f7a87fa4c5154105a36effaa909b37cb",
       "orientation": "vertical",
       "toolitems": [
        [
         "Home",
         "Reset original view",
         "home",
         "home"
        ],
        [
         "Back",
         "Back to previous view",
         "arrow-left",
         "back"
        ],
        [
         "Forward",
         "Forward to next view",
         "arrow-right",
         "forward"
        ],
        [
         "Pan",
         "Left button pans, Right button zooms\nx/y fixes axis, CTRL fixes aspect",
         "arrows",
         "pan"
        ],
        [
         "Zoom",
         "Zoom to rectangle\nx/y fixes axis",
         "square-o",
         "zoom"
        ],
        [
         "Download",
         "Download plot",
         "floppy-o",
         "save_figure"
        ]
       ]
      }
     },
     "cc4ccb5f271445e6929e1e81a99fc012": {
      "model_module": "@jupyter-widgets/base",
      "model_module_version": "1.2.0",
      "model_name": "LayoutModel",
      "state": {}
     },
     "cf643e8525ac4ac29d2fc28aae30fca2": {
      "model_module": "jupyter-matplotlib",
      "model_module_version": "^0.10.5",
      "model_name": "ToolbarModel",
      "state": {
       "collapsed": true,
       "layout": "IPY_MODEL_7c74c844d9d64723a16f1bb96a1db64a",
       "orientation": "vertical",
       "toolitems": [
        [
         "Home",
         "Reset original view",
         "home",
         "home"
        ],
        [
         "Back",
         "Back to previous view",
         "arrow-left",
         "back"
        ],
        [
         "Forward",
         "Forward to next view",
         "arrow-right",
         "forward"
        ],
        [
         "Pan",
         "Left button pans, Right button zooms\nx/y fixes axis, CTRL fixes aspect",
         "arrows",
         "pan"
        ],
        [
         "Zoom",
         "Zoom to rectangle\nx/y fixes axis",
         "square-o",
         "zoom"
        ],
        [
         "Download",
         "Download plot",
         "floppy-o",
         "save_figure"
        ]
       ]
      }
     },
     "cfb39c2d986b4648a4faf26b0e2ba56d": {
      "model_module": "@jupyter-widgets/base",
      "model_module_version": "1.2.0",
      "model_name": "LayoutModel",
      "state": {}
     },
     "d230bd3703ab446b93cde0c5bb7f050f": {
      "model_module": "@jupyter-widgets/base",
      "model_module_version": "1.2.0",
      "model_name": "LayoutModel",
      "state": {}
     },
     "d4362a9ed9194a739b8580307222b215": {
      "model_module": "jupyter-matplotlib",
      "model_module_version": "^0.10.5",
      "model_name": "ToolbarModel",
      "state": {
       "collapsed": true,
       "layout": "IPY_MODEL_de422ef401c74766b354b277f59155c0",
       "orientation": "vertical",
       "toolitems": [
        [
         "Home",
         "Reset original view",
         "home",
         "home"
        ],
        [
         "Back",
         "Back to previous view",
         "arrow-left",
         "back"
        ],
        [
         "Forward",
         "Forward to next view",
         "arrow-right",
         "forward"
        ],
        [
         "Pan",
         "Left button pans, Right button zooms\nx/y fixes axis, CTRL fixes aspect",
         "arrows",
         "pan"
        ],
        [
         "Zoom",
         "Zoom to rectangle\nx/y fixes axis",
         "square-o",
         "zoom"
        ],
        [
         "Download",
         "Download plot",
         "floppy-o",
         "save_figure"
        ]
       ]
      }
     },
     "de422ef401c74766b354b277f59155c0": {
      "model_module": "@jupyter-widgets/base",
      "model_module_version": "1.2.0",
      "model_name": "LayoutModel",
      "state": {}
     },
     "e52a52c75cbf40ce8bd25e97324dc324": {
      "model_module": "jupyter-matplotlib",
      "model_module_version": "^0.10.5",
      "model_name": "ToolbarModel",
      "state": {
       "collapsed": true,
       "layout": "IPY_MODEL_37cf55b4d2864ab3b493adf1979b5c62",
       "orientation": "vertical",
       "toolitems": [
        [
         "Home",
         "Reset original view",
         "home",
         "home"
        ],
        [
         "Back",
         "Back to previous view",
         "arrow-left",
         "back"
        ],
        [
         "Forward",
         "Forward to next view",
         "arrow-right",
         "forward"
        ],
        [
         "Pan",
         "Left button pans, Right button zooms\nx/y fixes axis, CTRL fixes aspect",
         "arrows",
         "pan"
        ],
        [
         "Zoom",
         "Zoom to rectangle\nx/y fixes axis",
         "square-o",
         "zoom"
        ],
        [
         "Download",
         "Download plot",
         "floppy-o",
         "save_figure"
        ]
       ]
      }
     },
     "e55541da62834fb0a423e58a1900f7b7": {
      "model_module": "@jupyter-widgets/base",
      "model_module_version": "1.2.0",
      "model_name": "LayoutModel",
      "state": {}
     },
     "e8083fbd62d14e5dabf0a5991976a1e2": {
      "model_module": "@jupyter-widgets/base",
      "model_module_version": "1.2.0",
      "model_name": "LayoutModel",
      "state": {}
     },
     "e8a963a25a914624ae2325014a12e36a": {
      "model_module": "jupyter-matplotlib",
      "model_module_version": "^0.10.5",
      "model_name": "ToolbarModel",
      "state": {
       "collapsed": true,
       "layout": "IPY_MODEL_ffdbba6e2eed4c929e00b7e0b7b1fba2",
       "orientation": "vertical",
       "toolitems": [
        [
         "Home",
         "Reset original view",
         "home",
         "home"
        ],
        [
         "Back",
         "Back to previous view",
         "arrow-left",
         "back"
        ],
        [
         "Forward",
         "Forward to next view",
         "arrow-right",
         "forward"
        ],
        [
         "Pan",
         "Left button pans, Right button zooms\nx/y fixes axis, CTRL fixes aspect",
         "arrows",
         "pan"
        ],
        [
         "Zoom",
         "Zoom to rectangle\nx/y fixes axis",
         "square-o",
         "zoom"
        ],
        [
         "Download",
         "Download plot",
         "floppy-o",
         "save_figure"
        ]
       ]
      }
     },
     "e973019943a44df8900e9a03cd560997": {
      "model_module": "jupyter-matplotlib",
      "model_module_version": "^0.10.5",
      "model_name": "ToolbarModel",
      "state": {
       "collapsed": true,
       "layout": "IPY_MODEL_8a033d0b44af4e948d9b7f6e25eec7e5",
       "orientation": "vertical",
       "toolitems": [
        [
         "Home",
         "Reset original view",
         "home",
         "home"
        ],
        [
         "Back",
         "Back to previous view",
         "arrow-left",
         "back"
        ],
        [
         "Forward",
         "Forward to next view",
         "arrow-right",
         "forward"
        ],
        [
         "Pan",
         "Left button pans, Right button zooms\nx/y fixes axis, CTRL fixes aspect",
         "arrows",
         "pan"
        ],
        [
         "Zoom",
         "Zoom to rectangle\nx/y fixes axis",
         "square-o",
         "zoom"
        ],
        [
         "Download",
         "Download plot",
         "floppy-o",
         "save_figure"
        ]
       ]
      }
     },
     "ebcd22dca82048459acca7e67bd901e6": {
      "model_module": "@jupyter-widgets/base",
      "model_module_version": "1.2.0",
      "model_name": "LayoutModel",
      "state": {}
     },
     "ec21c4edc66c496b866a99fe3014dba3": {
      "model_module": "@jupyter-widgets/base",
      "model_module_version": "1.2.0",
      "model_name": "LayoutModel",
      "state": {}
     },
     "edbc4be365404da39393a7493ee49e94": {
      "model_module": "@jupyter-widgets/base",
      "model_module_version": "1.2.0",
      "model_name": "LayoutModel",
      "state": {}
     },
     "eea1565cfa0a4a64a352aaf635dff607": {
      "model_module": "jupyter-matplotlib",
      "model_module_version": "^0.10.5",
      "model_name": "ToolbarModel",
      "state": {
       "collapsed": true,
       "layout": "IPY_MODEL_d230bd3703ab446b93cde0c5bb7f050f",
       "orientation": "vertical",
       "toolitems": [
        [
         "Home",
         "Reset original view",
         "home",
         "home"
        ],
        [
         "Back",
         "Back to previous view",
         "arrow-left",
         "back"
        ],
        [
         "Forward",
         "Forward to next view",
         "arrow-right",
         "forward"
        ],
        [
         "Pan",
         "Left button pans, Right button zooms\nx/y fixes axis, CTRL fixes aspect",
         "arrows",
         "pan"
        ],
        [
         "Zoom",
         "Zoom to rectangle\nx/y fixes axis",
         "square-o",
         "zoom"
        ],
        [
         "Download",
         "Download plot",
         "floppy-o",
         "save_figure"
        ]
       ]
      }
     },
     "eeea7d0a32364ac5a5682a62b488b448": {
      "model_module": "jupyter-matplotlib",
      "model_module_version": "^0.10.5",
      "model_name": "ToolbarModel",
      "state": {
       "collapsed": true,
       "layout": "IPY_MODEL_767355c969e5491aaa1636b4dd830a9b",
       "orientation": "vertical",
       "toolitems": [
        [
         "Home",
         "Reset original view",
         "home",
         "home"
        ],
        [
         "Back",
         "Back to previous view",
         "arrow-left",
         "back"
        ],
        [
         "Forward",
         "Forward to next view",
         "arrow-right",
         "forward"
        ],
        [
         "Pan",
         "Left button pans, Right button zooms\nx/y fixes axis, CTRL fixes aspect",
         "arrows",
         "pan"
        ],
        [
         "Zoom",
         "Zoom to rectangle\nx/y fixes axis",
         "square-o",
         "zoom"
        ],
        [
         "Download",
         "Download plot",
         "floppy-o",
         "save_figure"
        ]
       ]
      }
     },
     "f038b7f095f64f4c9904db88fee004d1": {
      "model_module": "@jupyter-widgets/base",
      "model_module_version": "1.2.0",
      "model_name": "LayoutModel",
      "state": {}
     },
     "f18cba08186948f98c324c915e14b6f5": {
      "model_module": "@jupyter-widgets/base",
      "model_module_version": "1.2.0",
      "model_name": "LayoutModel",
      "state": {}
     },
     "f7a87fa4c5154105a36effaa909b37cb": {
      "model_module": "@jupyter-widgets/base",
      "model_module_version": "1.2.0",
      "model_name": "LayoutModel",
      "state": {}
     },
     "f7b18caee3fc4a2d97222752df425fb4": {
      "model_module": "@jupyter-widgets/base",
      "model_module_version": "1.2.0",
      "model_name": "LayoutModel",
      "state": {}
     },
     "f93be5fa3546438bb4e316e82839a2df": {
      "model_module": "@jupyter-widgets/base",
      "model_module_version": "1.2.0",
      "model_name": "LayoutModel",
      "state": {}
     },
     "fabd35a050694f3289bcf8b55d94ea8d": {
      "model_module": "@jupyter-widgets/base",
      "model_module_version": "1.2.0",
      "model_name": "LayoutModel",
      "state": {}
     },
     "fcfcec46bb06451da5764e37eb36569c": {
      "model_module": "@jupyter-widgets/base",
      "model_module_version": "1.2.0",
      "model_name": "LayoutModel",
      "state": {}
     },
     "fe52c994f5724ef896b3e040156acacc": {
      "model_module": "jupyter-matplotlib",
      "model_module_version": "^0.10.5",
      "model_name": "ToolbarModel",
      "state": {
       "collapsed": true,
       "layout": "IPY_MODEL_bd551d425ba74a0f96110624af4feff1",
       "orientation": "vertical",
       "toolitems": [
        [
         "Home",
         "Reset original view",
         "home",
         "home"
        ],
        [
         "Back",
         "Back to previous view",
         "arrow-left",
         "back"
        ],
        [
         "Forward",
         "Forward to next view",
         "arrow-right",
         "forward"
        ],
        [
         "Pan",
         "Left button pans, Right button zooms\nx/y fixes axis, CTRL fixes aspect",
         "arrows",
         "pan"
        ],
        [
         "Zoom",
         "Zoom to rectangle\nx/y fixes axis",
         "square-o",
         "zoom"
        ],
        [
         "Download",
         "Download plot",
         "floppy-o",
         "save_figure"
        ]
       ]
      }
     },
     "ffdbba6e2eed4c929e00b7e0b7b1fba2": {
      "model_module": "@jupyter-widgets/base",
      "model_module_version": "1.2.0",
      "model_name": "LayoutModel",
      "state": {}
     }
    },
    "version_major": 2,
    "version_minor": 0
   }
  }
 },
 "nbformat": 4,
 "nbformat_minor": 5
}
